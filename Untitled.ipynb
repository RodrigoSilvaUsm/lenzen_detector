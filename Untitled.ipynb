{
 "cells": [
  {
   "cell_type": "code",
   "execution_count": 10,
   "id": "db3ae01d",
   "metadata": {},
   "outputs": [],
   "source": [
    "import math\n",
    "import numpy as np\n",
    "from math import sin, cos, atan\n",
    "import matplotlib.pyplot as plt"
   ]
  },
  {
   "cell_type": "code",
   "execution_count": 5,
   "id": "0895669c",
   "metadata": {},
   "outputs": [],
   "source": [
    "def rays(R,L,N,M,I,J):\n",
    "    \"\"\"Computes the all the distances from the IJ plane to the surface cylinder in NM directions.\"\"\"\n",
    "    dphi = 2 * math.pi / N\n",
    "    dtheta = math.pi / (M-1)\n",
    "    dx = 2 * R / (I+1)\n",
    "    dz = L / (J+1)\n",
    "    distances = np.zeros((I,J,N,M))\n",
    "    for i in range(I):\n",
    "        px = i * dx + dx\n",
    "        for j in range(J):\n",
    "            pz = j * dz + dz \n",
    "            for n in range(N):\n",
    "                Dx = (R**2 - ((px-R)*sin(n*dphi))**2)**0.5 - (px-R) * cos(n*dphi)\n",
    "                for m in range(M):\n",
    "                    theta1 = atan( Dx / (L-pz) )\n",
    "                    theta2 = math.pi - atan( Dx / pz )\n",
    "                    if m * dtheta <= theta1:\n",
    "                        distances[i,j,n,m] = math.inf \n",
    "                    elif m*dtheta>theta1 and m*dtheta<theta2:\n",
    "                        distances[i,j,n,m] = Dx / sin(m*dtheta)\n",
    "                    elif m*dtheta>=theta2:\n",
    "                        distances[i,j,n,m] = math.inf \n",
    "        return distances\n",
    "    "
   ]
  },
  {
   "cell_type": "code",
   "execution_count": 20,
   "id": "24f79042",
   "metadata": {
    "scrolled": false
   },
   "outputs": [
    {
     "data": {
      "text/plain": [
       "[<matplotlib.lines.Line2D at 0x1e2c9999430>,\n",
       " <matplotlib.lines.Line2D at 0x1e2c9999520>,\n",
       " <matplotlib.lines.Line2D at 0x1e2c9999640>,\n",
       " <matplotlib.lines.Line2D at 0x1e2c9999760>,\n",
       " <matplotlib.lines.Line2D at 0x1e2c9999880>,\n",
       " <matplotlib.lines.Line2D at 0x1e2c99999a0>,\n",
       " <matplotlib.lines.Line2D at 0x1e2c9999ac0>,\n",
       " <matplotlib.lines.Line2D at 0x1e2c9999be0>,\n",
       " <matplotlib.lines.Line2D at 0x1e2c9999d00>,\n",
       " <matplotlib.lines.Line2D at 0x1e2c9999e20>]"
      ]
     },
     "execution_count": 20,
     "metadata": {},
     "output_type": "execute_result"
    },
    {
     "data": {
      "image/png": "[encoded data removed]",
      "text/plain": [
       "<Figure size 432x288 with 1 Axes>"
      ]
     },
     "metadata": {
      "needs_background": "light"
     },
     "output_type": "display_data"
    }
   ],
   "source": [
    "#print(rays(50e-3, 47.625e-3, 6,6,4,4))\n",
    "plt.plot(rays(50e-3, 47.625e-3, 9,18,10,10)[:,:,1,3],'.')"
   ]
  },
  {
   "cell_type": "code",
   "execution_count": null,
   "id": "46e57e21",
   "metadata": {},
   "outputs": [],
   "source": []
  },
  {
   "cell_type": "code",
   "execution_count": null,
   "id": "1fd416ec",
   "metadata": {},
   "outputs": [],
   "source": []
  },
  {
   "cell_type": "code",
   "execution_count": null,
   "id": "4f348901",
   "metadata": {},
   "outputs": [],
   "source": []
  }
 ],
 "metadata": {
  "kernelspec": {
   "display_name": "Python 3 (ipykernel)",
   "language": "python",
   "name": "python3"
  },
  "language_info": {
   "codemirror_mode": {
    "name": "ipython",
    "version": 3
   },
   "file_extension": ".py",
   "mimetype": "text/x-python",
   "name": "python",
   "nbconvert_exporter": "python",
   "pygments_lexer": "ipython3",
   "version": "3.9.12"
  }
 },
 "nbformat": 4,
 "nbformat_minor": 5
}
